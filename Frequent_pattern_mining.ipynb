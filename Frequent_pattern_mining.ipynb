{
  "cells": [
    {
      "cell_type": "markdown",
      "metadata": {
        "id": "view-in-github",
        "colab_type": "text"
      },
      "source": [
        "<a href=\"https://colab.research.google.com/github/HungVLe/CMPE255/blob/main/Frequent_pattern_mining.ipynb\" target=\"_parent\"><img src=\"https://colab.research.google.com/assets/colab-badge.svg\" alt=\"Open In Colab\"/></a>"
      ]
    },
    {
      "cell_type": "markdown",
      "id": "bbc4d643-123e-4f77-bd85-7430f0dc05ca",
      "metadata": {
        "id": "bbc4d643-123e-4f77-bd85-7430f0dc05ca"
      },
      "source": [
        "Write  colabs to demonstrate frequent pattern mining apriori and fpgrowth techniques\n",
        "\n",
        " \n",
        "\n",
        "refer to slides shared in the class for hints to colabs. \n",
        "https://docs.google.com/presentation/d/1d2Xh9NTpzhj0H1rz3LbdnmLMmkE6Yh2-NKMYHLQ-_bM/edit#slide=id.g1026212bcb8_0_180"
      ]
    },
    {
      "cell_type": "code",
      "execution_count": null,
      "id": "bb0a94a5-fdee-4907-ab91-5b35c93683e7",
      "metadata": {
        "id": "bb0a94a5-fdee-4907-ab91-5b35c93683e7"
      },
      "outputs": [],
      "source": [
        "from collections import defaultdict\n",
        "from csv import reader\n",
        "from itertools import chain, combinations"
      ]
    },
    {
      "cell_type": "code",
      "execution_count": null,
      "id": "5689568f-99ef-4702-a5fb-cc0809f7c54d",
      "metadata": {
        "id": "5689568f-99ef-4702-a5fb-cc0809f7c54d"
      },
      "outputs": [],
      "source": [
        "itemSetList = [\n",
        "    [\"milk\", \"bournvita\", \"biscuit\"],\n",
        "    [\"milk\", \"biscuit\", \"cornflakes\"],\n",
        "    [\"bread\", \"tea\", \"bournvita\"],\n",
        "    [\"jam\", \"maggi\", \"bread\", \"milk\"],\n",
        "    [\"maggi\", \"tea\", \"biscuit\"],\n",
        "    [\"bread\", \"tea\", \"bournvita\"],\n",
        "    [\"maggi\", \"tea\", \"cornflakes\"],\n",
        "    [\"maggi\", \"bread\", \"tea\", \"biscuit\"],\n",
        "    [\"jam\", \"maggi\", \"tea\"],\n",
        "    [\"bread\", \"milk\"],\n",
        "    [\"coffee\", \"cock\", \"biscuit\", \"cornflakes\"],\n",
        "    [\"coffee\", \"cock\", \"biscuit\", \"cornflakes\"],\n",
        "    [\"coffee\", \"suger\", \"bournvita\"],\n",
        "    [\"bread\", \"coffee\", \"cock\"],\n",
        "    [\"bread\", \"suger\", \"biscuit\"],\n",
        "    [\"coffee\", \"suger\", \"cornflakes\"],\n",
        "    [\"bread\", \"suger\", \"bournvita\"],\n",
        "    [\"coffee\", \"suger\"],\n",
        "    [\"bread\", \"coffee\", \"suger\"],\n",
        "    [\"tea\", \"milk\", \"coffee\", \"cornflakes\"],\n",
        "]"
      ]
    },
    {
      "cell_type": "markdown",
      "id": "c168b967-d369-4eca-9240-801b8b0b48c8",
      "metadata": {
        "id": "c168b967-d369-4eca-9240-801b8b0b48c8"
      },
      "source": [
        "# **Apriori**"
      ]
    },
    {
      "cell_type": "code",
      "execution_count": null,
      "id": "52a79316-ecec-495b-8a46-4d581d26a041",
      "metadata": {
        "id": "52a79316-ecec-495b-8a46-4d581d26a041"
      },
      "outputs": [],
      "source": [
        "def powerset(s):\n",
        "    return chain.from_iterable(combinations(s, r) for r in range(1, len(s)))\n",
        "\n",
        "\n",
        "def getAboveMinSup(itemSet, itemSetList, minSup, globalItemSetWithSup):\n",
        "    freqItemSet = set()\n",
        "    localItemSetWithSup = defaultdict(int)\n",
        "\n",
        "    for item in itemSet:\n",
        "        for itemSet in itemSetList:\n",
        "            if item.issubset(itemSet):\n",
        "                globalItemSetWithSup[item] += 1\n",
        "                localItemSetWithSup[item] += 1\n",
        "\n",
        "    for item, supCount in localItemSetWithSup.items():\n",
        "        support = float(supCount / len(itemSetList))\n",
        "        if support >= minSup:\n",
        "            freqItemSet.add(item)\n",
        "\n",
        "    return freqItemSet\n",
        "\n",
        "\n",
        "def getUnion(itemSet, length):\n",
        "    return set(\n",
        "        [i.union(j) for i in itemSet for j in itemSet if len(i.union(j)) == length]\n",
        "    )\n",
        "\n",
        "\n",
        "def pruning(candidateSet, prevFreqSet, length):\n",
        "    tempCandidateSet = candidateSet.copy()\n",
        "    for item in candidateSet:\n",
        "        subsets = combinations(item, length)\n",
        "        for subset in subsets:\n",
        "            # if the subset is not in previous K-frequent get, then remove the set\n",
        "            if frozenset(subset) not in prevFreqSet:\n",
        "                tempCandidateSet.remove(item)\n",
        "                break\n",
        "    return tempCandidateSet\n",
        "\n",
        "\n",
        "def associationRule(freqItemSet, itemSetWithSup, minConf):\n",
        "    rules = []\n",
        "    for k, itemSet in freqItemSet.items():\n",
        "        for item in itemSet:\n",
        "            subsets = powerset(item)\n",
        "            for s in subsets:\n",
        "                confidence = float(itemSetWithSup[item] / itemSetWithSup[frozenset(s)])\n",
        "                if confidence > minConf:\n",
        "                    rules.append([set(s), set(item.difference(s)), confidence])\n",
        "    return rules\n",
        "\n",
        "\n",
        "def getItemSetFromList(itemSetList):\n",
        "    tempItemSet = set()\n",
        "\n",
        "    for itemSet in itemSetList:\n",
        "        for item in itemSet:\n",
        "            tempItemSet.add(frozenset([item]))\n",
        "\n",
        "    return tempItemSet\n",
        "\n",
        "\n",
        "def apriori(itemSetList, minSup, minConf):\n",
        "    C1ItemSet = getItemSetFromList(itemSetList)\n",
        "    # Final result global frequent itemset\n",
        "    globalFreqItemSet = dict()\n",
        "    # Storing global itemset with support count\n",
        "    globalItemSetWithSup = defaultdict(int)\n",
        "\n",
        "    L1ItemSet = getAboveMinSup(C1ItemSet, itemSetList, minSup, globalItemSetWithSup)\n",
        "    currentLSet = L1ItemSet\n",
        "    k = 2\n",
        "\n",
        "    # Calculating frequent item set\n",
        "    while currentLSet:\n",
        "        # Storing frequent itemset\n",
        "        globalFreqItemSet[k - 1] = currentLSet\n",
        "        # Self-joining Lk\n",
        "        candidateSet = getUnion(currentLSet, k)\n",
        "        # Perform subset testing and remove pruned supersets\n",
        "        candidateSet = pruning(candidateSet, currentLSet, k - 1)\n",
        "        # Scanning itemSet for counting support\n",
        "        currentLSet = getAboveMinSup(\n",
        "            candidateSet, itemSetList, minSup, globalItemSetWithSup\n",
        "        )\n",
        "        k += 1\n",
        "\n",
        "    rules = associationRule(globalFreqItemSet, globalItemSetWithSup, minConf)\n",
        "    rules.sort(key=lambda x: x[2])\n",
        "\n",
        "    return globalFreqItemSet, rules"
      ]
    },
    {
      "cell_type": "code",
      "execution_count": null,
      "id": "b894e5f8-3944-41dc-8a12-47adcb61b3d2",
      "metadata": {
        "tags": [],
        "id": "b894e5f8-3944-41dc-8a12-47adcb61b3d2",
        "outputId": "b830c550-5858-4edb-b84c-0f80fc7872fb"
      },
      "outputs": [
        {
          "name": "stdout",
          "output_type": "stream",
          "text": [
            "freqItemSet\n",
            "{1: {frozenset({'bournvita'}), frozenset({'cornflakes'}), frozenset({'suger'}), frozenset({'coffee'}), frozenset({'milk'}), frozenset({'tea'}), frozenset({'biscuit'}), frozenset({'bread'}), frozenset({'maggi'})}, 2: {frozenset({'coffee', 'cornflakes'}), frozenset({'coffee', 'suger'}), frozenset({'tea', 'maggi'})}}\n",
            "\n",
            "rules\n",
            "[[{'coffee'}, {'cornflakes'}, 0.5], [{'coffee'}, {'suger'}, 0.5], [{'tea'}, {'maggi'}, 0.5714285714285714], [{'cornflakes'}, {'coffee'}, 0.6666666666666666], [{'suger'}, {'coffee'}, 0.6666666666666666], [{'maggi'}, {'tea'}, 0.8]]\n"
          ]
        }
      ],
      "source": [
        "freqItemSet, rules = apriori(itemSetList, minSup=0.2, minConf=0.2)\n",
        "print(\"freqItemSet\")\n",
        "print(freqItemSet)\n",
        "print()\n",
        "print(\"rules\")\n",
        "print(rules)"
      ]
    },
    {
      "cell_type": "markdown",
      "id": "ce70a176-17ae-47e1-b0f1-7759ee11800c",
      "metadata": {
        "id": "ce70a176-17ae-47e1-b0f1-7759ee11800c"
      },
      "source": [
        "# **FP Growth**"
      ]
    },
    {
      "cell_type": "code",
      "execution_count": null,
      "id": "9fcdd42a-c8ed-49c3-aa22-bac738329508",
      "metadata": {
        "id": "9fcdd42a-c8ed-49c3-aa22-bac738329508"
      },
      "outputs": [],
      "source": [
        "class Node:\n",
        "    def __init__(self, itemName, frequency, parentNode):\n",
        "        self.itemName = itemName\n",
        "        self.count = frequency\n",
        "        self.parent = parentNode\n",
        "        self.children = {}\n",
        "        self.next = None\n",
        "\n",
        "    def increment(self, frequency):\n",
        "        self.count += frequency\n",
        "\n",
        "    def display(self, ind=1):\n",
        "        print(\"  \" * ind, self.itemName, \" \", self.count)\n",
        "        for child in list(self.children.values()):\n",
        "            child.display(ind + 1)\n",
        "\n",
        "\n",
        "def constructTree(itemSetList, frequency, minSup):\n",
        "    headerTable = defaultdict(int)\n",
        "    # Counting frequency and create header table\n",
        "    for idx, itemSet in enumerate(itemSetList):\n",
        "        for item in itemSet:\n",
        "            headerTable[item] += frequency[idx]\n",
        "\n",
        "    # Deleting items below minSup\n",
        "    headerTable = dict(\n",
        "        (item, sup) for item, sup in headerTable.items() if sup >= minSup\n",
        "    )\n",
        "    if len(headerTable) == 0:\n",
        "        return None, None\n",
        "\n",
        "    # HeaderTable column [Item: [frequency, headNode]]\n",
        "    for item in headerTable:\n",
        "        headerTable[item] = [headerTable[item], None]\n",
        "\n",
        "    # Init Null head node\n",
        "    fpTree = Node(\"Null\", 1, None)\n",
        "    # Update FP tree for each cleaned and sorted itemSet\n",
        "    for idx, itemSet in enumerate(itemSetList):\n",
        "        itemSet = [item for item in itemSet if item in headerTable]\n",
        "        itemSet.sort(key=lambda item: headerTable[item][0], reverse=True)\n",
        "        # Traverse from root to leaf, update tree with given item\n",
        "        currentNode = fpTree\n",
        "        for item in itemSet:\n",
        "            currentNode = updateTree(item, currentNode, headerTable, frequency[idx])\n",
        "\n",
        "    return fpTree, headerTable\n",
        "\n",
        "\n",
        "def updateTree(item, treeNode, headerTable, frequency):\n",
        "    if item in treeNode.children:\n",
        "        # If the item already exists, increment the count\n",
        "        treeNode.children[item].increment(frequency)\n",
        "    else:\n",
        "        # Create a new branch\n",
        "        newItemNode = Node(item, frequency, treeNode)\n",
        "        treeNode.children[item] = newItemNode\n",
        "        # Link the new branch to header table\n",
        "        updateHeaderTable(item, newItemNode, headerTable)\n",
        "\n",
        "    return treeNode.children[item]\n",
        "\n",
        "\n",
        "def updateHeaderTable(item, targetNode, headerTable):\n",
        "    if headerTable[item][1] == None:\n",
        "        headerTable[item][1] = targetNode\n",
        "    else:\n",
        "        currentNode = headerTable[item][1]\n",
        "        # Traverse to the last node then link it to the target\n",
        "        while currentNode.next != None:\n",
        "            currentNode = currentNode.next\n",
        "        currentNode.next = targetNode\n",
        "\n",
        "\n",
        "def mineTree(headerTable, minSup, preFix, freqItemList):\n",
        "    # Sort the items with frequency and create a list\n",
        "    sortedItemList = [\n",
        "        item[0] for item in sorted(list(headerTable.items()), key=lambda p: p[1][0])\n",
        "    ]\n",
        "    # Start with the lowest frequency\n",
        "    for item in sortedItemList:\n",
        "        # Pattern growth is achieved by the concatenation of suffix pattern with frequent patterns generated from conditional FP-tree\n",
        "        newFreqSet = preFix.copy()\n",
        "        newFreqSet.add(item)\n",
        "        freqItemList.append(newFreqSet)\n",
        "        # Find all prefix path, constrcut conditional pattern base\n",
        "        conditionalPattBase, frequency = findPrefixPath(item, headerTable)\n",
        "        # Construct conditonal FP Tree with conditional pattern base\n",
        "        conditionalTree, newHeaderTable = constructTree(\n",
        "            conditionalPattBase, frequency, minSup\n",
        "        )\n",
        "        if newHeaderTable != None:\n",
        "            # Mining recursively on the tree\n",
        "            mineTree(newHeaderTable, minSup, newFreqSet, freqItemList)\n",
        "\n",
        "\n",
        "def findPrefixPath(basePat, headerTable):\n",
        "    # First node in linked list\n",
        "    treeNode = headerTable[basePat][1]\n",
        "    condPats = []\n",
        "    frequency = []\n",
        "    while treeNode != None:\n",
        "        prefixPath = []\n",
        "        # From leaf node all the way to root\n",
        "        ascendFPtree(treeNode, prefixPath)\n",
        "        if len(prefixPath) > 1:\n",
        "            # Storing the prefix path and it's corresponding count\n",
        "            condPats.append(prefixPath[1:])\n",
        "            frequency.append(treeNode.count)\n",
        "\n",
        "        # Go to next node\n",
        "        treeNode = treeNode.next\n",
        "    return condPats, frequency\n",
        "\n",
        "\n",
        "def ascendFPtree(node, prefixPath):\n",
        "    if node.parent != None:\n",
        "        prefixPath.append(node.itemName)\n",
        "        ascendFPtree(node.parent, prefixPath)\n",
        "\n",
        "\n",
        "def getFrequencyFromList(itemSetList):\n",
        "    frequency = [1 for i in range(len(itemSetList))]\n",
        "    return frequency\n",
        "\n",
        "\n",
        "def associationRuleFPGrowth(freqItemSet, itemSetList, minConf):\n",
        "    rules = []\n",
        "    for itemSet in freqItemSet:\n",
        "        subsets = powerset(itemSet)\n",
        "        itemSetSup = getSupport(itemSet, itemSetList)\n",
        "        for s in subsets:\n",
        "            confidence = float(itemSetSup / getSupport(s, itemSetList))\n",
        "            if confidence > minConf:\n",
        "                rules.append([set(s), set(itemSet.difference(s)), confidence])\n",
        "    return rules\n",
        "\n",
        "\n",
        "def getSupport(testSet, itemSetList):\n",
        "    count = 0\n",
        "    for itemSet in itemSetList:\n",
        "        if set(testSet).issubset(itemSet):\n",
        "            count += 1\n",
        "    return count\n",
        "\n",
        "\n",
        "def fpgrowth(itemSetList, minSupRatio, minConf):\n",
        "    frequency = getFrequencyFromList(itemSetList)\n",
        "    minSup = len(itemSetList) * minSupRatio\n",
        "    fpTree, headerTable = constructTree(itemSetList, frequency, minSup)\n",
        "    if fpTree == None:\n",
        "        print(\"No frequent item set\")\n",
        "    else:\n",
        "        freqItems = []\n",
        "        mineTree(headerTable, minSup, set(), freqItems)\n",
        "        rules = associationRuleFPGrowth(freqItems, itemSetList, minConf)\n",
        "        return freqItems, rules"
      ]
    },
    {
      "cell_type": "code",
      "execution_count": null,
      "id": "cd4551fd-a0a5-4f03-9759-b7fdd9329de2",
      "metadata": {
        "id": "cd4551fd-a0a5-4f03-9759-b7fdd9329de2",
        "outputId": "f8170a88-73b1-4181-b4ac-f8a68725ccf7"
      },
      "outputs": [
        {
          "name": "stdout",
          "output_type": "stream",
          "text": [
            "freqItemSet\n",
            "[{'milk'}, {'bournvita'}, {'maggi'}, {'tea', 'maggi'}, {'cornflakes'}, {'coffee', 'cornflakes'}, {'suger'}, {'coffee', 'suger'}, {'biscuit'}, {'tea'}, {'coffee'}, {'bread'}]\n",
            "\n",
            "rules\n",
            "[[{'tea'}, {'maggi'}, 0.5714285714285714], [{'maggi'}, {'tea'}, 0.8], [{'coffee'}, {'cornflakes'}, 0.5], [{'cornflakes'}, {'coffee'}, 0.6666666666666666], [{'coffee'}, {'suger'}, 0.5], [{'suger'}, {'coffee'}, 0.6666666666666666]]\n"
          ]
        }
      ],
      "source": [
        "freqItemSet, rules = fpgrowth(itemSetList, minSupRatio=0.2, minConf=0.2)\n",
        "print(\"freqItemSet\")\n",
        "print(freqItemSet)\n",
        "print()\n",
        "print(\"rules\")\n",
        "print(rules)"
      ]
    },
    {
      "cell_type": "code",
      "execution_count": null,
      "id": "6fa61e2e-6463-4d27-b1ca-8761d01282c2",
      "metadata": {
        "id": "6fa61e2e-6463-4d27-b1ca-8761d01282c2"
      },
      "outputs": [],
      "source": [
        ""
      ]
    }
  ],
  "metadata": {
    "kernelspec": {
      "display_name": "Python 3 (ipykernel)",
      "language": "python",
      "name": "python3"
    },
    "language_info": {
      "codemirror_mode": {
        "name": "ipython",
        "version": 3
      },
      "file_extension": ".py",
      "mimetype": "text/x-python",
      "name": "python",
      "nbconvert_exporter": "python",
      "pygments_lexer": "ipython3",
      "version": "3.8.12"
    },
    "colab": {
      "name": "Frequent pattern mining.ipynb",
      "provenance": [],
      "include_colab_link": true
    }
  },
  "nbformat": 4,
  "nbformat_minor": 5
}