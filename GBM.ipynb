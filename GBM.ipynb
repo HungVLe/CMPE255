{
  "cells": [
    {
      "cell_type": "markdown",
      "metadata": {
        "id": "view-in-github",
        "colab_type": "text"
      },
      "source": [
        "<a href=\"https://colab.research.google.com/github/HungVLe/CMPE255/blob/main/GBM.ipynb\" target=\"_parent\"><img src=\"https://colab.research.google.com/assets/colab-badge.svg\" alt=\"Open In Colab\"/></a>"
      ]
    },
    {
      "cell_type": "markdown",
      "id": "4029266c-b97b-465e-9c19-0db299350069",
      "metadata": {
        "id": "4029266c-b97b-465e-9c19-0db299350069"
      },
      "source": [
        "Write one or more colabs to demonstrate gradient boost methods with proper results visualizations\n",
        "\n",
        " \n",
        "\n",
        "a) Showcase  gbm classifier techniques\n",
        "\n",
        " \n",
        "\n",
        "XGBoost, Catboost, LightGBM, randomforest, adaboost, decision tree classifier in the colab hint: \n",
        "https://docs.google.com/presentation/d/19j3wC-8_cz41CIm88F6kOFU8ys7zVcRfaBw6SImAeWc/edit#slide=id.ga2af525914_0_5665\n",
        "\n",
        "b) Showcase gradient boost regression techniques XGBoost, Catboost, LightGBM\n",
        "\n",
        "c) showcase gradient boost ranking techniques XGBoost, Catboost, LightGBM"
      ]
    },
    {
      "cell_type": "code",
      "execution_count": null,
      "id": "7ca0203c-661e-43c0-86c5-a4faff4e1835",
      "metadata": {
        "id": "7ca0203c-661e-43c0-86c5-a4faff4e1835"
      },
      "outputs": [],
      "source": [
        "from sklearn.tree import DecisionTreeClassifier\n",
        "from sklearn.experimental import enable_hist_gradient_boosting\n",
        "from sklearn.ensemble import (\n",
        "    RandomForestClassifier,\n",
        "    AdaBoostClassifier,\n",
        "    GradientBoostingClassifier,\n",
        "    HistGradientBoostingClassifier,\n",
        ")\n",
        "\n",
        "from xgboost import XGBClassifier\n",
        "from lightgbm import LGBMClassifier\n",
        "from catboost import CatBoostClassifier"
      ]
    },
    {
      "cell_type": "code",
      "execution_count": null,
      "id": "24aaad42-83ff-4d6e-83ad-83b827d57b26",
      "metadata": {
        "id": "24aaad42-83ff-4d6e-83ad-83b827d57b26"
      },
      "outputs": [],
      "source": [
        "from time import time\n",
        "from sklearn.model_selection import train_test_split\n",
        "from sklearn.metrics import accuracy_score\n",
        "import matplotlib.pyplot as plt\n",
        "import numpy as np\n",
        "import pandas as pd"
      ]
    },
    {
      "cell_type": "code",
      "execution_count": null,
      "id": "f4759c8a-2724-44ef-a759-bb4e0c152d3a",
      "metadata": {
        "id": "f4759c8a-2724-44ef-a759-bb4e0c152d3a"
      },
      "outputs": [],
      "source": [
        "import logging\n",
        "logging.getLogger(\"XGBClassifier\").setLevel(logging.CRITICAL)\n",
        "logging.getLogger(\"LGBMClassifier\").setLevel(logging.CRITICAL)\n",
        "logging.getLogger(\"CatBoostClassifier\").setLevel(logging.CRITICAL)"
      ]
    },
    {
      "cell_type": "code",
      "execution_count": null,
      "id": "9d34a4b7-0f91-4783-8741-ffd264bd3142",
      "metadata": {
        "id": "9d34a4b7-0f91-4783-8741-ffd264bd3142"
      },
      "outputs": [],
      "source": [
        "import warnings\n",
        "warnings.filterwarnings(\"ignore\")"
      ]
    },
    {
      "cell_type": "markdown",
      "id": "956d27fb-76c6-4d57-9176-dcd26d1e2a8b",
      "metadata": {
        "tags": [],
        "id": "956d27fb-76c6-4d57-9176-dcd26d1e2a8b"
      },
      "source": [
        "# **Showcase gbm classifier techniques**"
      ]
    },
    {
      "cell_type": "code",
      "execution_count": null,
      "id": "6d3bacf5-bcba-4510-99c2-ba0cba2e1922",
      "metadata": {
        "id": "6d3bacf5-bcba-4510-99c2-ba0cba2e1922"
      },
      "outputs": [],
      "source": [
        "from sklearn.datasets import make_classification"
      ]
    },
    {
      "cell_type": "code",
      "execution_count": null,
      "id": "61066792-34ac-41e4-bc2f-213abad70671",
      "metadata": {
        "id": "61066792-34ac-41e4-bc2f-213abad70671"
      },
      "outputs": [],
      "source": [
        "# define dataset\n",
        "X, y = make_classification(n_samples=1000, n_features=10, n_informative=5, random_state=1)\n",
        "\n",
        "# split data into train and test sets\n",
        "X_train, X_test, y_train, y_test = train_test_split(X, y, test_size=0.1)"
      ]
    },
    {
      "cell_type": "code",
      "execution_count": null,
      "id": "5df345a9-0728-4270-bebc-440dd03148eb",
      "metadata": {
        "id": "5df345a9-0728-4270-bebc-440dd03148eb"
      },
      "outputs": [],
      "source": [
        "# Decision Tree\n",
        "dt = DecisionTreeClassifier(max_depth=12, random_state=1234)\n",
        "\n",
        "# Random Forest\n",
        "rf = RandomForestClassifier(\n",
        "    n_estimators=500, max_features=0.06, n_jobs=6, random_state=1234\n",
        ")\n",
        "\n",
        "# Adaboost\n",
        "base_estim = DecisionTreeClassifier(max_depth=1, max_features=0.06)\n",
        "ab = AdaBoostClassifier(\n",
        "    base_estimator=base_estim, n_estimators=500, learning_rate=0.5, random_state=1234\n",
        ")\n",
        "\n",
        "# Gradient Boosted Decision Trees (Scikit-Learn)\n",
        "gbm = GradientBoostingClassifier(\n",
        "    n_estimators=2000,\n",
        "    subsample=0.67,\n",
        "    max_features=0.06,\n",
        "    validation_fraction=0.1,\n",
        "    n_iter_no_change=15,\n",
        "    verbose=0,\n",
        "    random_state=1234,\n",
        ")\n",
        "\n",
        "# XGBoost\n",
        "xgb = XGBClassifier(\n",
        "    n_estimators=2000,\n",
        "    tree_method=\"hist\",\n",
        "    subsample=0.67,\n",
        "    colsample_level=0.06,\n",
        "    verbose=0,\n",
        "    n_jobs=6,\n",
        "    random_state=1234,\n",
        ")\n",
        "\n",
        "# LightGBM\n",
        "lgbm = LGBMClassifier(\n",
        "    n_estimators=2000,\n",
        "    feature_fraction=0.06,\n",
        "    bagging_fraction=0.67,\n",
        "    bagging_freq=1,\n",
        "    verbose=0,\n",
        "    n_jobs=6,\n",
        "    random_state=1234,\n",
        ")\n",
        "\n",
        "# CatBoost\n",
        "cb = CatBoostClassifier(n_estimators=2000,\n",
        "                           colsample_bylevel=0.06,\n",
        "                           max_leaves=31,\n",
        "                           subsample=0.67,\n",
        "                           verbose=0,\n",
        "                           thread_count=6,\n",
        "                           random_state=1234)\n",
        "\n",
        "# Histogram-based Gradient Boosting Machine (Scikit-Learn)\n",
        "hgbm = HistGradientBoostingClassifier(\n",
        "    max_iter=2000,\n",
        "    validation_fraction=0.1,\n",
        "    n_iter_no_change=15,\n",
        "    verbose=0,\n",
        "    random_state=1234,\n",
        ")"
      ]
    },
    {
      "cell_type": "code",
      "execution_count": null,
      "id": "7004c149-562c-43f9-8f33-362acf3acd5e",
      "metadata": {
        "id": "7004c149-562c-43f9-8f33-362acf3acd5e"
      },
      "outputs": [],
      "source": [
        "models = [dt, rf, ab, gbm, hgbm, xgb, lgbm, cb]\n",
        "model_names = [i.__class__.__name__ for i in models]"
      ]
    },
    {
      "cell_type": "code",
      "execution_count": null,
      "id": "da88be30-e591-4950-9077-d4e710eb6e8d",
      "metadata": {
        "id": "da88be30-e591-4950-9077-d4e710eb6e8d"
      },
      "outputs": [],
      "source": [
        "df_results = pd.DataFrame(columns=['accuracy', 'run_time'])\n",
        "\n",
        "for m, n in zip(models, model_names):\n",
        "    start_time = time()\n",
        "    m.fit(X_train, y_train)\n",
        "    run_time = time() - start_time\n",
        "    preds = m.predict(X_test)\n",
        "    accuracy = accuracy_score(y_test, preds)\n",
        "    df_results.loc[n] = [accuracy, run_time]\n",
        "    del m"
      ]
    },
    {
      "cell_type": "code",
      "execution_count": null,
      "id": "68626207-a577-4723-8f97-f8e76d237e16",
      "metadata": {
        "id": "68626207-a577-4723-8f97-f8e76d237e16",
        "outputId": "e8a9a598-dde9-4edd-c473-34aaa63bc3e3"
      },
      "outputs": [
        {
          "data": {
            "text/plain": [
              "<AxesSubplot:>"
            ]
          },
          "execution_count": 10,
          "metadata": {},
          "output_type": "execute_result"
        },
        {
          "data": {
            "image/png": "[encoded data removed]",
            "text/plain": [
              "<Figure size 1440x720 with 1 Axes>"
            ]
          },
          "metadata": {
            "needs_background": "light"
          },
          "output_type": "display_data"
        }
      ],
      "source": [
        "df_results.plot(kind='bar', figsize=(20, 10))"
      ]
    },
    {
      "cell_type": "markdown",
      "id": "2e924d70-92de-4e27-a7ed-7347ba95536e",
      "metadata": {
        "id": "2e924d70-92de-4e27-a7ed-7347ba95536e"
      },
      "source": [
        "# **Showcase gradient boost regression techniques XGBoost, Catboost, LightGBM**"
      ]
    },
    {
      "cell_type": "code",
      "execution_count": null,
      "id": "e0320c8a-88e4-4430-ab43-a0866bedcda7",
      "metadata": {
        "id": "e0320c8a-88e4-4430-ab43-a0866bedcda7"
      },
      "outputs": [],
      "source": [
        "from sklearn.datasets import make_regression\n",
        "from sklearn.metrics import max_error"
      ]
    },
    {
      "cell_type": "code",
      "execution_count": null,
      "id": "266ebc6f-0be5-40fb-b4a8-6985b9aea383",
      "metadata": {
        "id": "266ebc6f-0be5-40fb-b4a8-6985b9aea383"
      },
      "outputs": [],
      "source": [
        "from catboost import CatBoostRegressor\n",
        "from lightgbm import LGBMRegressor\n",
        "from xgboost import XGBRegressor"
      ]
    },
    {
      "cell_type": "code",
      "execution_count": null,
      "id": "bed9058e-3c9d-4cc6-8760-e62ccc6cd9fa",
      "metadata": {
        "id": "bed9058e-3c9d-4cc6-8760-e62ccc6cd9fa"
      },
      "outputs": [],
      "source": [
        "# define dataset\n",
        "X, y = make_regression(n_samples=1000, n_features=10, n_informative=5, random_state=1)\n",
        "\n",
        "# split data into train and test sets\n",
        "X_train, X_test, y_train, y_test = train_test_split(X, y, test_size=0.1)"
      ]
    },
    {
      "cell_type": "code",
      "execution_count": null,
      "id": "9fc53c49-cee1-4e9d-bf9e-8baf11af15ef",
      "metadata": {
        "id": "9fc53c49-cee1-4e9d-bf9e-8baf11af15ef"
      },
      "outputs": [],
      "source": [
        "cb_rg = CatBoostRegressor(verbose=0, n_estimators=100)\n",
        "lgbm_rg = LGBMRegressor()\n",
        "xgb_rg = XGBRegressor(objective='reg:squarederror')"
      ]
    },
    {
      "cell_type": "code",
      "execution_count": null,
      "id": "1c9119f8-b72b-493a-adac-8cbde514d7b2",
      "metadata": {
        "id": "1c9119f8-b72b-493a-adac-8cbde514d7b2"
      },
      "outputs": [],
      "source": [
        "models = [cb_rg, lgbm_rg, xgb_rg]\n",
        "model_names = [i.__class__.__name__ for i in models]"
      ]
    },
    {
      "cell_type": "code",
      "execution_count": null,
      "id": "0e056e85-bf87-4def-a284-71dd757c26ad",
      "metadata": {
        "id": "0e056e85-bf87-4def-a284-71dd757c26ad"
      },
      "outputs": [],
      "source": [
        "df_results = pd.DataFrame(columns=['max_error', 'run_time'])\n",
        "\n",
        "for m, n in zip(models, model_names):\n",
        "    start_time = time()\n",
        "    m.fit(X_train, y_train)\n",
        "    run_time = time() - start_time\n",
        "    preds = m.predict(X_test)\n",
        "    mr = max_error(y_test, preds)\n",
        "    df_results.loc[n] = [mr, run_time]\n",
        "    del m"
      ]
    },
    {
      "cell_type": "code",
      "execution_count": null,
      "id": "31bfe48f-8043-481c-92f1-332790e5a65b",
      "metadata": {
        "id": "31bfe48f-8043-481c-92f1-332790e5a65b",
        "outputId": "3eac9008-211a-4f47-c6b2-342f039dd1c9"
      },
      "outputs": [
        {
          "name": "stdout",
          "output_type": "stream",
          "text": [
            "max_error\n"
          ]
        },
        {
          "data": {
            "text/plain": [
              "<AxesSubplot:>"
            ]
          },
          "execution_count": 21,
          "metadata": {},
          "output_type": "execute_result"
        },
        {
          "data": {
            "image/png": "[encoded data removed]",
            "text/plain": [
              "<Figure size 360x216 with 1 Axes>"
            ]
          },
          "metadata": {
            "needs_background": "light"
          },
          "output_type": "display_data"
        }
      ],
      "source": [
        "print('max_error')\n",
        "df_results['max_error'].plot(kind='bar', figsize=(5, 3))"
      ]
    },
    {
      "cell_type": "code",
      "execution_count": null,
      "id": "742c4204-8080-4ac1-be24-79d8debc9f81",
      "metadata": {
        "id": "742c4204-8080-4ac1-be24-79d8debc9f81",
        "outputId": "081ed7fd-ec6d-4497-9541-0d8d817663ec"
      },
      "outputs": [
        {
          "name": "stdout",
          "output_type": "stream",
          "text": [
            "run_time\n"
          ]
        },
        {
          "data": {
            "text/plain": [
              "<AxesSubplot:>"
            ]
          },
          "execution_count": 22,
          "metadata": {},
          "output_type": "execute_result"
        },
        {
          "data": {
            "image/png": "[encoded data removed]",
            "text/plain": [
              "<Figure size 360x216 with 1 Axes>"
            ]
          },
          "metadata": {
            "needs_background": "light"
          },
          "output_type": "display_data"
        }
      ],
      "source": [
        "print('run_time')\n",
        "df_results['run_time'].plot(kind='bar', figsize=(5, 3))"
      ]
    }
  ],
  "metadata": {
    "kernelspec": {
      "display_name": "Python 3 (ipykernel)",
      "language": "python",
      "name": "python3"
    },
    "language_info": {
      "codemirror_mode": {
        "name": "ipython",
        "version": 3
      },
      "file_extension": ".py",
      "mimetype": "text/x-python",
      "name": "python",
      "nbconvert_exporter": "python",
      "pygments_lexer": "ipython3",
      "version": "3.8.12"
    },
    "colab": {
      "name": "GBM.ipynb",
      "provenance": [],
      "include_colab_link": true
    }
  },
  "nbformat": 4,
  "nbformat_minor": 5
}